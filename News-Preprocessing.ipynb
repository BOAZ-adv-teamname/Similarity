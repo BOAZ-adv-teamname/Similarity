{
  "nbformat": 4,
  "nbformat_minor": 0,
  "metadata": {
    "colab": {
      "name": "0720 News Preprocessing.ipynb",
      "provenance": [],
      "collapsed_sections": []
    },
    "kernelspec": {
      "name": "python3",
      "display_name": "Python 3"
    },
    "language_info": {
      "name": "python"
    }
  },
  "cells": [
    {
      "cell_type": "code",
      "metadata": {
        "colab": {
          "base_uri": "https://localhost:8080/"
        },
        "id": "TWscBAjMenEp",
        "outputId": "36055275-de29-4eda-cfcc-237995b6b5da"
      },
      "source": [
        "from google.colab import drive\n",
        "drive.mount('/content/drive')"
      ],
      "execution_count": null,
      "outputs": [
        {
          "output_type": "stream",
          "text": [
            "Drive already mounted at /content/drive; to attempt to forcibly remount, call drive.mount(\"/content/drive\", force_remount=True).\n"
          ],
          "name": "stdout"
        }
      ]
    },
    {
      "cell_type": "code",
      "metadata": {
        "id": "1NtI8yU5dkJ5"
      },
      "source": [
        "import re\n",
        "import pandas as pd"
      ],
      "execution_count": null,
      "outputs": []
    },
    {
      "cell_type": "code",
      "metadata": {
        "id": "3Xd1NRe8e6HG"
      },
      "source": [
        "import os\n",
        "os.chdir('/content/drive/MyDrive/BOAZ_ADV_대법관_김보아즈/data')"
      ],
      "execution_count": null,
      "outputs": []
    },
    {
      "cell_type": "code",
      "metadata": {
        "id": "s6w898_7e-Ht"
      },
      "source": [
        "news = pd.read_csv('뉴스/실험군/news_for_sim.csv')"
      ],
      "execution_count": null,
      "outputs": []
    },
    {
      "cell_type": "code",
      "metadata": {
        "colab": {
          "base_uri": "https://localhost:8080/",
          "height": 162
        },
        "id": "y-3BwndNfI18",
        "outputId": "5e5231fe-9a7c-4ac5-ab03-a8972daf42d7"
      },
      "source": [
        "news.head(2)"
      ],
      "execution_count": null,
      "outputs": [
        {
          "output_type": "execute_result",
          "data": {
            "text/html": [
              "<div>\n",
              "<style scoped>\n",
              "    .dataframe tbody tr th:only-of-type {\n",
              "        vertical-align: middle;\n",
              "    }\n",
              "\n",
              "    .dataframe tbody tr th {\n",
              "        vertical-align: top;\n",
              "    }\n",
              "\n",
              "    .dataframe thead th {\n",
              "        text-align: right;\n",
              "    }\n",
              "</style>\n",
              "<table border=\"1\" class=\"dataframe\">\n",
              "  <thead>\n",
              "    <tr style=\"text-align: right;\">\n",
              "      <th></th>\n",
              "      <th>제목</th>\n",
              "      <th>본문</th>\n",
              "      <th>키워드</th>\n",
              "      <th>카테고리</th>\n",
              "    </tr>\n",
              "  </thead>\n",
              "  <tbody>\n",
              "    <tr>\n",
              "      <th>0</th>\n",
              "      <td>통일부 논쟁 종막? 이인영 \"기꺼이 져드릴게\" 이준석 \"민주주의 인권이나 지지 말길\"</td>\n",
              "      <td>이준석 국민의힘 대표와 이틀 간 통일부 존폐를 놓고 설전(舌戰)을 벌인 이인영 통일...</td>\n",
              "      <td>종막,통일부,논쟁,이인영,이준석,민주주의,인권,이인영,직성,애초,북한,인권,얘기,통...</td>\n",
              "      <td>살인</td>\n",
              "    </tr>\n",
              "    <tr>\n",
              "      <th>1</th>\n",
              "      <td>서울대 학생처장 “산 사람들, 피해자 코스프레 역겹다\" 청소노동자 갑질 의혹 반박</td>\n",
              "      <td>지난 7일 서울대학교에서 ‘서울대학교 청소 노동자 조합원 사망 관련 서울대학교 오세...</td>\n",
              "      <td>서울대,학생처장,사람,피해자,코스프레,청소,노동자,갑질,의혹,반박,서울대학교,사망,...</td>\n",
              "      <td>절도</td>\n",
              "    </tr>\n",
              "  </tbody>\n",
              "</table>\n",
              "</div>"
            ],
            "text/plain": [
              "                                                제목  ... 카테고리\n",
              "0  통일부 논쟁 종막? 이인영 \"기꺼이 져드릴게\" 이준석 \"민주주의 인권이나 지지 말길\"  ...   살인\n",
              "1    서울대 학생처장 “산 사람들, 피해자 코스프레 역겹다\" 청소노동자 갑질 의혹 반박  ...   절도\n",
              "\n",
              "[2 rows x 4 columns]"
            ]
          },
          "metadata": {
            "tags": []
          },
          "execution_count": 10
        }
      ]
    },
    {
      "cell_type": "code",
      "metadata": {
        "id": "Z0Lc3WGEdjlK"
      },
      "source": [
        "# 전처리\n",
        "def text_cleaning(texts):\n",
        "    string = re.sub(\"[^ㄱ-ㅎㅏ-ㅣ가-힣 ]\",\" \", texts)\n",
        "    string = re.sub(r'[·@%\\\\*=()/~#&\\+á‘’“”?\\xc3\\xa1\\-\\|\\:\\;\\!\\-\\,\\_\\~\\$\\'\\\"\\[\\]]', ' ', string) #remove punctuation\n",
        "    string = re.sub(r'\\n',' ', string)     # remove enter\n",
        "    string = re.sub(r'[0-9]+', '', string) # remove number\n",
        "    string = re.sub(r'\\s+', ' ', string)   #remove extra space\n",
        "    string = re.sub(r'<[^>]+>',' ',string) #remove Html tags\n",
        "    return string"
      ],
      "execution_count": null,
      "outputs": []
    },
    {
      "cell_type": "code",
      "metadata": {
        "id": "NvPVY39redRN"
      },
      "source": [
        "news['prepro'] = news['본문'].apply(text_cleaning)"
      ],
      "execution_count": null,
      "outputs": []
    },
    {
      "cell_type": "code",
      "metadata": {
        "colab": {
          "base_uri": "https://localhost:8080/",
          "height": 52
        },
        "id": "2i16SuSafXE1",
        "outputId": "0c15ad90-ef7e-4332-a61c-bd7e3fd23b1e"
      },
      "source": [
        "news['본문'][1]"
      ],
      "execution_count": null,
      "outputs": [
        {
          "output_type": "execute_result",
          "data": {
            "application/vnd.google.colaboratory.intrinsic+json": {
              "type": "string"
            },
            "text/plain": [
              "'지난 7일 서울대학교에서 ‘서울대학교 청소 노동자 조합원 사망 관련 서울대학교 오세정 총장 규탄 기자회견’이 열렸다. 사진은 고인이 근무하던 925동 여학생 기숙사 앞에 붙은 추모 글. 연합뉴스 \\n 서울대 청소노동자에 대한 학교 관리자의 갑질 의혹에 대해 학생처장이 노조의 주장을 반박하는 취지의 글을 사회관계망서비스(SNS)에 올렸다가 삭제해 논란이 일..'"
            ]
          },
          "metadata": {
            "tags": []
          },
          "execution_count": 20
        }
      ]
    },
    {
      "cell_type": "code",
      "metadata": {
        "colab": {
          "base_uri": "https://localhost:8080/",
          "height": 52
        },
        "id": "b7bj4kWxfOb2",
        "outputId": "38c15c31-a861-469a-f205-307b9f574e01"
      },
      "source": [
        "news['prepro'][1]"
      ],
      "execution_count": null,
      "outputs": [
        {
          "output_type": "execute_result",
          "data": {
            "application/vnd.google.colaboratory.intrinsic+json": {
              "type": "string"
            },
            "text/plain": [
              "'지난 일 서울대학교에서 서울대학교 청소 노동자 조합원 사망 관련 서울대학교 오세정 총장 규탄 기자회견 이 열렸다 사진은 고인이 근무하던 동 여학생 기숙사 앞에 붙은 추모 글 연합뉴스 서울대 청소노동자에 대한 학교 관리자의 갑질 의혹에 대해 학생처장이 노조의 주장을 반박하는 취지의 글을 사회관계망서비스 에 올렸다가 삭제해 논란이 일 '"
            ]
          },
          "metadata": {
            "tags": []
          },
          "execution_count": 21
        }
      ]
    }
  ]
}